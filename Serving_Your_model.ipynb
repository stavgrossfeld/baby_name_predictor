{
 "cells": [
  {
   "cell_type": "markdown",
   "metadata": {},
   "source": [
    "# Short Flask Tutorial"
   ]
  },
  {
   "cell_type": "markdown",
   "metadata": {},
   "source": [
    "Start with http://flask.pocoo.org/docs/0.12/quickstart/. Your task is to write an HTTP service that gets a string and returns its length. Write a python client that communicates with the service"
   ]
  },
  {
   "cell_type": "code",
   "execution_count": 1,
   "metadata": {
    "ExecuteTime": {
     "end_time": "2017-12-05T16:20:02.147812Z",
     "start_time": "2017-12-05T16:20:01.689112Z"
    },
    "collapsed": true
   },
   "outputs": [],
   "source": [
    "from flask import Flask, request, render_template\n",
    "app = Flask(__name__)\n",
    "\n",
    "@app.route('/', methods = [\"GET\",\"POST\"])\n",
    "def hello_world():\n",
    "    \n",
    "    if request.method == 'GET':\n",
    "      return render_template('form.html')\n",
    "    else:\n",
    "      my_string = request.form[\"baby_name\"]\n",
    "      return str(len(my_string))\n",
    "\n"
   ]
  },
  {
   "cell_type": "code",
   "execution_count": 2,
   "metadata": {
    "ExecuteTime": {
     "end_time": "2017-12-05T16:20:04.217993Z",
     "start_time": "2017-12-05T16:20:02.166613Z"
    },
    "collapsed": false
   },
   "outputs": [
    {
     "name": "stdout",
     "output_type": "stream",
     "text": [
      "Usage: flask run [OPTIONS]\r\n",
      "\r\n",
      "Error: Could not locate Flask application. You did not provide the FLASK_APP environment variable.\r\n",
      "\r\n",
      "For more information see http://flask.pocoo.org/docs/latest/quickstart/\r\n"
     ]
    }
   ],
   "source": [
    "!export FLASK_APP=serving_model.py\n",
    "!flask run"
   ]
  },
  {
   "cell_type": "markdown",
   "metadata": {},
   "source": [
    "# Prepare the data\n",
    "\n",
    "Download https://raw.githubusercontent.com/hadley/data-baby-names/master/baby-names.csv\n",
    "\n",
    "Load it with pandas and build a table with the following columns:\n",
    "\n",
    "1. Name\n",
    "1. Mean Percent of boys over the years\n",
    "1. Mean Percent of girls over the years\n",
    "1. Total percent (Column2+Column3) / 2\n",
    "1. IsGirl (= Column3 > Column2)\n",
    "\n",
    "Sort by total percent and take the top 2000 names.\n",
    "\n",
    "Sort by name column and take every fifth name to be the test data"
   ]
  },
  {
   "cell_type": "code",
   "execution_count": 1,
   "metadata": {
    "ExecuteTime": {
     "end_time": "2017-12-19T13:19:23.828336Z",
     "start_time": "2017-12-19T13:19:22.437452Z"
    },
    "collapsed": true
   },
   "outputs": [],
   "source": [
    "import pandas as pd\n",
    "baby_df = pd.read_csv(\"./baby-names.csv\")\n",
    "\n",
    "# get mean percent for girls boys\n",
    "girls_df = pd.DataFrame(baby_df[baby_df.sex == \"girl\"].groupby(\"name\").mean()['percent'])\n",
    "boys_df = pd.DataFrame(baby_df[baby_df.sex == \"boy\"].groupby(\"name\").mean()['percent'])\n",
    "\n",
    "# prepare data \n",
    "pct_df = pd.concat([boys_df,girls_df], axis = 1)\n",
    "pct_df.columns = [\"boys_pct\",\"girls_pct\"]\n",
    "pct_df = pct_df.fillna(0)\n",
    "pct_df[\"total_pct\"] = pct_df.boys_pct + pct_df.girls_pct\n",
    "pct_df = pct_df.reset_index()\n",
    "pct_df.columns = [\"names\",\"boys_pct\",\"girls_pct\",\"total_pct\"]\n",
    "\n",
    "# is girl column\n",
    "pct_df['is_girl'] = pct_df.girls_pct - pct_df.boys_pct\n",
    "pct_df.is_girl = pct_df.is_girl.apply(lambda val: 1 if val > 0 else 0 )"
   ]
  },
  {
   "cell_type": "markdown",
   "metadata": {},
   "source": [
    "Using `nltk` package, creare 2-grams of the chracters in each name. You should have 358 features if you lower case. \n",
    "\n",
    "notes: \n",
    "\n",
    "1. lower case? maybe. maybe not. Why?\n",
    "1. don't over do this section, use 1-grams if easier and come back to here after finished. "
   ]
  },
  {
   "cell_type": "code",
   "execution_count": 2,
   "metadata": {
    "ExecuteTime": {
     "end_time": "2017-12-19T13:19:28.753232Z",
     "start_time": "2017-12-19T13:19:26.976996Z"
    },
    "collapsed": false,
    "scrolled": false
   },
   "outputs": [],
   "source": [
    "# prepare features\n",
    "import nltk\n",
    "from collections import Counter\n",
    "X = []\n",
    "for name in pct_df.names:\n",
    "    name_ngrams = [\"\".join(ngram) for ngram in nltk.ngrams(name.lower(), 2)]\n",
    "    name_ngrams_counts = Counter(name_ngrams)\n",
    "    X.append(name_ngrams_counts)\n",
    "feature_df = (pd.DataFrame(X).fillna(0).astype(int))"
   ]
  },
  {
   "cell_type": "code",
   "execution_count": 3,
   "metadata": {
    "ExecuteTime": {
     "end_time": "2017-12-19T13:19:29.311031Z",
     "start_time": "2017-12-19T13:19:29.288644Z"
    },
    "collapsed": false
   },
   "outputs": [],
   "source": [
    "final_df = pd.concat([pct_df, feature_df], axis = 1)"
   ]
  },
  {
   "cell_type": "markdown",
   "metadata": {},
   "source": [
    "What is the percent of boys in the data?"
   ]
  },
  {
   "cell_type": "code",
   "execution_count": 5,
   "metadata": {
    "ExecuteTime": {
     "end_time": "2017-12-19T13:19:33.326266Z",
     "start_time": "2017-12-19T13:19:33.306404Z"
    },
    "collapsed": false
   },
   "outputs": [
    {
     "data": {
      "text/plain": [
       "1    3784\n",
       "0    2998\n",
       "Name: is_girl, dtype: int64"
      ]
     },
     "execution_count": 5,
     "metadata": {},
     "output_type": "execute_result"
    }
   ],
   "source": [
    "pct_df.is_girl.value_counts()\n",
    "#print \"pct_boys:\" , round(float(2998) / 3784  * 100,2) ,\"%\""
   ]
  },
  {
   "cell_type": "markdown",
   "metadata": {},
   "source": [
    "What is the sparsity of the data? Whats the percent of non-zero cells in the feature matrix you created? "
   ]
  },
  {
   "cell_type": "code",
   "execution_count": 6,
   "metadata": {
    "ExecuteTime": {
     "end_time": "2017-12-19T13:19:37.430065Z",
     "start_time": "2017-12-19T13:19:37.423854Z"
    },
    "collapsed": false,
    "scrolled": false
   },
   "outputs": [
    {
     "ename": "SyntaxError",
     "evalue": "invalid syntax (<ipython-input-6-0a9aff7c59a0>, line 1)",
     "output_type": "error",
     "traceback": [
      "\u001b[0;36m  File \u001b[0;32m\"<ipython-input-6-0a9aff7c59a0>\"\u001b[0;36m, line \u001b[0;32m1\u001b[0m\n\u001b[0;31m    print \"sparsity:\",round(float(sum(sum(feature_df.values))) / (feature_df.shape[0]*feature_df.shape[1]) * 100,2) , \"%\"\u001b[0m\n\u001b[0m                    ^\u001b[0m\n\u001b[0;31mSyntaxError\u001b[0m\u001b[0;31m:\u001b[0m invalid syntax\n"
     ]
    }
   ],
   "source": [
    "#print \"sparsity:\",round(float(sum(sum(feature_df.values))) / (feature_df.shape[0]*feature_df.shape[1]) * 100,2) , \"%\""
   ]
  },
  {
   "cell_type": "markdown",
   "metadata": {},
   "source": [
    "# Train a model"
   ]
  },
  {
   "cell_type": "markdown",
   "metadata": {},
   "source": [
    "Using Logistic Regression or any other model you like train a model. Evaluate the mode using Accuracy, AUC and Mean Average Percision (average_precision_score) on the train and test sets. Think about regulazrization - you have a lot of features. If you are running out of time, do this quickly and move to the next section. Come back to this later."
   ]
  },
  {
   "cell_type": "code",
   "execution_count": 7,
   "metadata": {
    "ExecuteTime": {
     "end_time": "2017-12-19T13:19:46.075650Z",
     "start_time": "2017-12-19T13:19:45.649806Z"
    },
    "collapsed": false,
    "scrolled": true
   },
   "outputs": [
    {
     "name": "stderr",
     "output_type": "stream",
     "text": [
      "/Users/Stav/anaconda2/envs/python3/lib/python3.6/site-packages/sklearn/cross_validation.py:41: DeprecationWarning: This module was deprecated in version 0.18 in favor of the model_selection module into which all the refactored classes and functions are moved. Also note that the interface of the new CV iterators are different from that of this module. This module will be removed in 0.20.\n",
      "  \"This module will be removed in 0.20.\", DeprecationWarning)\n"
     ]
    }
   ],
   "source": [
    "from sklearn.tree import DecisionTreeClassifier\n",
    "from sklearn.cross_validation import train_test_split\n",
    "\n",
    "names = pct_df.names.values\n",
    "feature_df[\"names\"] = [name.lower() for name in names]\n",
    "feature_df = feature_df.set_index(\"names\")\n",
    "\n",
    "y = pct_df.is_girl.values\n",
    "#X = final_df.set_index(\"names\")\n",
    "\n",
    "X_train, X_test, y_train, y_test = train_test_split(feature_df,y,test_size = .33,)\n",
    "clf = DecisionTreeClassifier()\n",
    "\n",
    "#print clf\n",
    "clf.fit(X_train,y_train)\n",
    "y_pred = clf.predict(X_test)\n",
    "#print clf.score(X_test, y_test)"
   ]
  },
  {
   "cell_type": "code",
   "execution_count": 9,
   "metadata": {
    "ExecuteTime": {
     "end_time": "2017-12-19T13:20:42.244125Z",
     "start_time": "2017-12-19T13:20:42.236420Z"
    },
    "collapsed": false
   },
   "outputs": [],
   "source": [
    "import pickle\n",
    "f = open('name_classifier.pickle', 'wb')\n",
    "pickle.dump(clf, f)\n",
    "f.close()"
   ]
  },
  {
   "cell_type": "code",
   "execution_count": 160,
   "metadata": {
    "ExecuteTime": {
     "end_time": "2017-12-05T17:04:11.216787Z",
     "start_time": "2017-12-05T17:04:10.794512Z"
    },
    "collapsed": false,
    "scrolled": true
   },
   "outputs": [
    {
     "data": {
      "text/html": [
       "<div>\n",
       "<style>\n",
       "    .dataframe thead tr:only-child th {\n",
       "        text-align: right;\n",
       "    }\n",
       "\n",
       "    .dataframe thead th {\n",
       "        text-align: left;\n",
       "    }\n",
       "\n",
       "    .dataframe tbody tr th {\n",
       "        vertical-align: top;\n",
       "    }\n",
       "</style>\n",
       "<table border=\"1\" class=\"dataframe\">\n",
       "  <thead>\n",
       "    <tr style=\"text-align: right;\">\n",
       "      <th></th>\n",
       "      <th>boys_pct</th>\n",
       "      <th>girls_pct</th>\n",
       "      <th>total_pct</th>\n",
       "      <th>is_girl</th>\n",
       "      <th>aa</th>\n",
       "      <th>ab</th>\n",
       "      <th>ac</th>\n",
       "      <th>ad</th>\n",
       "      <th>ae</th>\n",
       "      <th>af</th>\n",
       "      <th>...</th>\n",
       "      <th>zg</th>\n",
       "      <th>zh</th>\n",
       "      <th>zi</th>\n",
       "      <th>zl</th>\n",
       "      <th>zm</th>\n",
       "      <th>zo</th>\n",
       "      <th>zr</th>\n",
       "      <th>zu</th>\n",
       "      <th>zy</th>\n",
       "      <th>zz</th>\n",
       "    </tr>\n",
       "    <tr>\n",
       "      <th>names</th>\n",
       "      <th></th>\n",
       "      <th></th>\n",
       "      <th></th>\n",
       "      <th></th>\n",
       "      <th></th>\n",
       "      <th></th>\n",
       "      <th></th>\n",
       "      <th></th>\n",
       "      <th></th>\n",
       "      <th></th>\n",
       "      <th></th>\n",
       "      <th></th>\n",
       "      <th></th>\n",
       "      <th></th>\n",
       "      <th></th>\n",
       "      <th></th>\n",
       "      <th></th>\n",
       "      <th></th>\n",
       "      <th></th>\n",
       "      <th></th>\n",
       "      <th></th>\n",
       "    </tr>\n",
       "  </thead>\n",
       "  <tbody>\n",
       "    <tr>\n",
       "      <th>Aaden</th>\n",
       "      <td>0.000442</td>\n",
       "      <td>0.000000</td>\n",
       "      <td>0.000442</td>\n",
       "      <td>0</td>\n",
       "      <td>1</td>\n",
       "      <td>0</td>\n",
       "      <td>0</td>\n",
       "      <td>1</td>\n",
       "      <td>0</td>\n",
       "      <td>0</td>\n",
       "      <td>...</td>\n",
       "      <td>0</td>\n",
       "      <td>0</td>\n",
       "      <td>0</td>\n",
       "      <td>0</td>\n",
       "      <td>0</td>\n",
       "      <td>0</td>\n",
       "      <td>0</td>\n",
       "      <td>0</td>\n",
       "      <td>0</td>\n",
       "      <td>0</td>\n",
       "    </tr>\n",
       "    <tr>\n",
       "      <th>Aaliyah</th>\n",
       "      <td>0.000000</td>\n",
       "      <td>0.001317</td>\n",
       "      <td>0.001317</td>\n",
       "      <td>1</td>\n",
       "      <td>1</td>\n",
       "      <td>0</td>\n",
       "      <td>0</td>\n",
       "      <td>0</td>\n",
       "      <td>0</td>\n",
       "      <td>0</td>\n",
       "      <td>...</td>\n",
       "      <td>0</td>\n",
       "      <td>0</td>\n",
       "      <td>0</td>\n",
       "      <td>0</td>\n",
       "      <td>0</td>\n",
       "      <td>0</td>\n",
       "      <td>0</td>\n",
       "      <td>0</td>\n",
       "      <td>0</td>\n",
       "      <td>0</td>\n",
       "    </tr>\n",
       "    <tr>\n",
       "      <th>Aarav</th>\n",
       "      <td>0.000101</td>\n",
       "      <td>0.000000</td>\n",
       "      <td>0.000101</td>\n",
       "      <td>0</td>\n",
       "      <td>1</td>\n",
       "      <td>0</td>\n",
       "      <td>0</td>\n",
       "      <td>0</td>\n",
       "      <td>0</td>\n",
       "      <td>0</td>\n",
       "      <td>...</td>\n",
       "      <td>0</td>\n",
       "      <td>0</td>\n",
       "      <td>0</td>\n",
       "      <td>0</td>\n",
       "      <td>0</td>\n",
       "      <td>0</td>\n",
       "      <td>0</td>\n",
       "      <td>0</td>\n",
       "      <td>0</td>\n",
       "      <td>0</td>\n",
       "    </tr>\n",
       "    <tr>\n",
       "      <th>Aaron</th>\n",
       "      <td>0.002266</td>\n",
       "      <td>0.000089</td>\n",
       "      <td>0.002355</td>\n",
       "      <td>0</td>\n",
       "      <td>1</td>\n",
       "      <td>0</td>\n",
       "      <td>0</td>\n",
       "      <td>0</td>\n",
       "      <td>0</td>\n",
       "      <td>0</td>\n",
       "      <td>...</td>\n",
       "      <td>0</td>\n",
       "      <td>0</td>\n",
       "      <td>0</td>\n",
       "      <td>0</td>\n",
       "      <td>0</td>\n",
       "      <td>0</td>\n",
       "      <td>0</td>\n",
       "      <td>0</td>\n",
       "      <td>0</td>\n",
       "      <td>0</td>\n",
       "    </tr>\n",
       "    <tr>\n",
       "      <th>Ab</th>\n",
       "      <td>0.000044</td>\n",
       "      <td>0.000000</td>\n",
       "      <td>0.000044</td>\n",
       "      <td>0</td>\n",
       "      <td>0</td>\n",
       "      <td>1</td>\n",
       "      <td>0</td>\n",
       "      <td>0</td>\n",
       "      <td>0</td>\n",
       "      <td>0</td>\n",
       "      <td>...</td>\n",
       "      <td>0</td>\n",
       "      <td>0</td>\n",
       "      <td>0</td>\n",
       "      <td>0</td>\n",
       "      <td>0</td>\n",
       "      <td>0</td>\n",
       "      <td>0</td>\n",
       "      <td>0</td>\n",
       "      <td>0</td>\n",
       "      <td>0</td>\n",
       "    </tr>\n",
       "    <tr>\n",
       "      <th>Abagail</th>\n",
       "      <td>0.000000</td>\n",
       "      <td>0.000133</td>\n",
       "      <td>0.000133</td>\n",
       "      <td>1</td>\n",
       "      <td>0</td>\n",
       "      <td>1</td>\n",
       "      <td>0</td>\n",
       "      <td>0</td>\n",
       "      <td>0</td>\n",
       "      <td>0</td>\n",
       "      <td>...</td>\n",
       "      <td>0</td>\n",
       "      <td>0</td>\n",
       "      <td>0</td>\n",
       "      <td>0</td>\n",
       "      <td>0</td>\n",
       "      <td>0</td>\n",
       "      <td>0</td>\n",
       "      <td>0</td>\n",
       "      <td>0</td>\n",
       "      <td>0</td>\n",
       "    </tr>\n",
       "    <tr>\n",
       "      <th>Abb</th>\n",
       "      <td>0.000046</td>\n",
       "      <td>0.000000</td>\n",
       "      <td>0.000046</td>\n",
       "      <td>0</td>\n",
       "      <td>0</td>\n",
       "      <td>1</td>\n",
       "      <td>0</td>\n",
       "      <td>0</td>\n",
       "      <td>0</td>\n",
       "      <td>0</td>\n",
       "      <td>...</td>\n",
       "      <td>0</td>\n",
       "      <td>0</td>\n",
       "      <td>0</td>\n",
       "      <td>0</td>\n",
       "      <td>0</td>\n",
       "      <td>0</td>\n",
       "      <td>0</td>\n",
       "      <td>0</td>\n",
       "      <td>0</td>\n",
       "      <td>0</td>\n",
       "    </tr>\n",
       "    <tr>\n",
       "      <th>Abbey</th>\n",
       "      <td>0.000000</td>\n",
       "      <td>0.000239</td>\n",
       "      <td>0.000239</td>\n",
       "      <td>1</td>\n",
       "      <td>0</td>\n",
       "      <td>1</td>\n",
       "      <td>0</td>\n",
       "      <td>0</td>\n",
       "      <td>0</td>\n",
       "      <td>0</td>\n",
       "      <td>...</td>\n",
       "      <td>0</td>\n",
       "      <td>0</td>\n",
       "      <td>0</td>\n",
       "      <td>0</td>\n",
       "      <td>0</td>\n",
       "      <td>0</td>\n",
       "      <td>0</td>\n",
       "      <td>0</td>\n",
       "      <td>0</td>\n",
       "      <td>0</td>\n",
       "    </tr>\n",
       "    <tr>\n",
       "      <th>Abbie</th>\n",
       "      <td>0.000046</td>\n",
       "      <td>0.000243</td>\n",
       "      <td>0.000289</td>\n",
       "      <td>1</td>\n",
       "      <td>0</td>\n",
       "      <td>1</td>\n",
       "      <td>0</td>\n",
       "      <td>0</td>\n",
       "      <td>0</td>\n",
       "      <td>0</td>\n",
       "      <td>...</td>\n",
       "      <td>0</td>\n",
       "      <td>0</td>\n",
       "      <td>0</td>\n",
       "      <td>0</td>\n",
       "      <td>0</td>\n",
       "      <td>0</td>\n",
       "      <td>0</td>\n",
       "      <td>0</td>\n",
       "      <td>0</td>\n",
       "      <td>0</td>\n",
       "    </tr>\n",
       "    <tr>\n",
       "      <th>Abbigail</th>\n",
       "      <td>0.000000</td>\n",
       "      <td>0.000242</td>\n",
       "      <td>0.000242</td>\n",
       "      <td>1</td>\n",
       "      <td>0</td>\n",
       "      <td>1</td>\n",
       "      <td>0</td>\n",
       "      <td>0</td>\n",
       "      <td>0</td>\n",
       "      <td>0</td>\n",
       "      <td>...</td>\n",
       "      <td>0</td>\n",
       "      <td>0</td>\n",
       "      <td>0</td>\n",
       "      <td>0</td>\n",
       "      <td>0</td>\n",
       "      <td>0</td>\n",
       "      <td>0</td>\n",
       "      <td>0</td>\n",
       "      <td>0</td>\n",
       "      <td>0</td>\n",
       "    </tr>\n",
       "    <tr>\n",
       "      <th>Abbott</th>\n",
       "      <td>0.000044</td>\n",
       "      <td>0.000000</td>\n",
       "      <td>0.000044</td>\n",
       "      <td>0</td>\n",
       "      <td>0</td>\n",
       "      <td>1</td>\n",
       "      <td>0</td>\n",
       "      <td>0</td>\n",
       "      <td>0</td>\n",
       "      <td>0</td>\n",
       "      <td>...</td>\n",
       "      <td>0</td>\n",
       "      <td>0</td>\n",
       "      <td>0</td>\n",
       "      <td>0</td>\n",
       "      <td>0</td>\n",
       "      <td>0</td>\n",
       "      <td>0</td>\n",
       "      <td>0</td>\n",
       "      <td>0</td>\n",
       "      <td>0</td>\n",
       "    </tr>\n",
       "    <tr>\n",
       "      <th>Abby</th>\n",
       "      <td>0.000000</td>\n",
       "      <td>0.000390</td>\n",
       "      <td>0.000390</td>\n",
       "      <td>1</td>\n",
       "      <td>0</td>\n",
       "      <td>1</td>\n",
       "      <td>0</td>\n",
       "      <td>0</td>\n",
       "      <td>0</td>\n",
       "      <td>0</td>\n",
       "      <td>...</td>\n",
       "      <td>0</td>\n",
       "      <td>0</td>\n",
       "      <td>0</td>\n",
       "      <td>0</td>\n",
       "      <td>0</td>\n",
       "      <td>0</td>\n",
       "      <td>0</td>\n",
       "      <td>0</td>\n",
       "      <td>0</td>\n",
       "      <td>0</td>\n",
       "    </tr>\n",
       "    <tr>\n",
       "      <th>Abdiel</th>\n",
       "      <td>0.000092</td>\n",
       "      <td>0.000000</td>\n",
       "      <td>0.000092</td>\n",
       "      <td>0</td>\n",
       "      <td>0</td>\n",
       "      <td>1</td>\n",
       "      <td>0</td>\n",
       "      <td>0</td>\n",
       "      <td>0</td>\n",
       "      <td>0</td>\n",
       "      <td>...</td>\n",
       "      <td>0</td>\n",
       "      <td>0</td>\n",
       "      <td>0</td>\n",
       "      <td>0</td>\n",
       "      <td>0</td>\n",
       "      <td>0</td>\n",
       "      <td>0</td>\n",
       "      <td>0</td>\n",
       "      <td>0</td>\n",
       "      <td>0</td>\n",
       "    </tr>\n",
       "    <tr>\n",
       "      <th>Abdul</th>\n",
       "      <td>0.000064</td>\n",
       "      <td>0.000000</td>\n",
       "      <td>0.000064</td>\n",
       "      <td>0</td>\n",
       "      <td>0</td>\n",
       "      <td>1</td>\n",
       "      <td>0</td>\n",
       "      <td>0</td>\n",
       "      <td>0</td>\n",
       "      <td>0</td>\n",
       "      <td>...</td>\n",
       "      <td>0</td>\n",
       "      <td>0</td>\n",
       "      <td>0</td>\n",
       "      <td>0</td>\n",
       "      <td>0</td>\n",
       "      <td>0</td>\n",
       "      <td>0</td>\n",
       "      <td>0</td>\n",
       "      <td>0</td>\n",
       "      <td>0</td>\n",
       "    </tr>\n",
       "    <tr>\n",
       "      <th>Abdullah</th>\n",
       "      <td>0.000094</td>\n",
       "      <td>0.000000</td>\n",
       "      <td>0.000094</td>\n",
       "      <td>0</td>\n",
       "      <td>0</td>\n",
       "      <td>1</td>\n",
       "      <td>0</td>\n",
       "      <td>0</td>\n",
       "      <td>0</td>\n",
       "      <td>0</td>\n",
       "      <td>...</td>\n",
       "      <td>0</td>\n",
       "      <td>0</td>\n",
       "      <td>0</td>\n",
       "      <td>0</td>\n",
       "      <td>0</td>\n",
       "      <td>0</td>\n",
       "      <td>0</td>\n",
       "      <td>0</td>\n",
       "      <td>0</td>\n",
       "      <td>0</td>\n",
       "    </tr>\n",
       "  </tbody>\n",
       "</table>\n",
       "<p>15 rows × 439 columns</p>\n",
       "</div>"
      ],
      "text/plain": [
       "          boys_pct  girls_pct  total_pct  is_girl  aa  ab  ac  ad  ae  af ...  \\\n",
       "names                                                                     ...   \n",
       "Aaden     0.000442   0.000000   0.000442        0   1   0   0   1   0   0 ...   \n",
       "Aaliyah   0.000000   0.001317   0.001317        1   1   0   0   0   0   0 ...   \n",
       "Aarav     0.000101   0.000000   0.000101        0   1   0   0   0   0   0 ...   \n",
       "Aaron     0.002266   0.000089   0.002355        0   1   0   0   0   0   0 ...   \n",
       "Ab        0.000044   0.000000   0.000044        0   0   1   0   0   0   0 ...   \n",
       "Abagail   0.000000   0.000133   0.000133        1   0   1   0   0   0   0 ...   \n",
       "Abb       0.000046   0.000000   0.000046        0   0   1   0   0   0   0 ...   \n",
       "Abbey     0.000000   0.000239   0.000239        1   0   1   0   0   0   0 ...   \n",
       "Abbie     0.000046   0.000243   0.000289        1   0   1   0   0   0   0 ...   \n",
       "Abbigail  0.000000   0.000242   0.000242        1   0   1   0   0   0   0 ...   \n",
       "Abbott    0.000044   0.000000   0.000044        0   0   1   0   0   0   0 ...   \n",
       "Abby      0.000000   0.000390   0.000390        1   0   1   0   0   0   0 ...   \n",
       "Abdiel    0.000092   0.000000   0.000092        0   0   1   0   0   0   0 ...   \n",
       "Abdul     0.000064   0.000000   0.000064        0   0   1   0   0   0   0 ...   \n",
       "Abdullah  0.000094   0.000000   0.000094        0   0   1   0   0   0   0 ...   \n",
       "\n",
       "          zg  zh  zi  zl  zm  zo  zr  zu  zy  zz  \n",
       "names                                             \n",
       "Aaden      0   0   0   0   0   0   0   0   0   0  \n",
       "Aaliyah    0   0   0   0   0   0   0   0   0   0  \n",
       "Aarav      0   0   0   0   0   0   0   0   0   0  \n",
       "Aaron      0   0   0   0   0   0   0   0   0   0  \n",
       "Ab         0   0   0   0   0   0   0   0   0   0  \n",
       "Abagail    0   0   0   0   0   0   0   0   0   0  \n",
       "Abb        0   0   0   0   0   0   0   0   0   0  \n",
       "Abbey      0   0   0   0   0   0   0   0   0   0  \n",
       "Abbie      0   0   0   0   0   0   0   0   0   0  \n",
       "Abbigail   0   0   0   0   0   0   0   0   0   0  \n",
       "Abbott     0   0   0   0   0   0   0   0   0   0  \n",
       "Abby       0   0   0   0   0   0   0   0   0   0  \n",
       "Abdiel     0   0   0   0   0   0   0   0   0   0  \n",
       "Abdul      0   0   0   0   0   0   0   0   0   0  \n",
       "Abdullah   0   0   0   0   0   0   0   0   0   0  \n",
       "\n",
       "[15 rows x 439 columns]"
      ]
     },
     "execution_count": 160,
     "metadata": {},
     "output_type": "execute_result"
    }
   ],
   "source": [
    "final_df = final_df.copy().set_index(\"names\")\n",
    "final_df.head(15)"
   ]
  },
  {
   "cell_type": "code",
   "execution_count": 12,
   "metadata": {
    "ExecuteTime": {
     "end_time": "2017-12-19T14:42:13.937481Z",
     "start_time": "2017-12-19T14:42:13.927973Z"
    },
    "collapsed": false
   },
   "outputs": [
    {
     "data": {
      "text/plain": [
       "['am', 'mi', 'it']"
      ]
     },
     "execution_count": 12,
     "metadata": {},
     "output_type": "execute_result"
    }
   ],
   "source": [
    "name_grams = []\n",
    "for gram in nltk.ngrams(\"amit\".lower(), 2):\n",
    "    name_grams.append(\"\".join(gram))\n",
    "    \n",
    "name_grams"
   ]
  },
  {
   "cell_type": "code",
   "execution_count": 165,
   "metadata": {
    "ExecuteTime": {
     "end_time": "2017-12-05T17:04:34.875711Z",
     "start_time": "2017-12-05T17:04:34.863072Z"
    },
    "collapsed": false,
    "scrolled": true
   },
   "outputs": [
    {
     "data": {
      "text/plain": [
       "array([1])"
      ]
     },
     "execution_count": 165,
     "metadata": {},
     "output_type": "execute_result"
    }
   ],
   "source": [
    "# predict on any name code\n",
    "import nltk\n",
    "name = \"abbie\"\n",
    "name_grams = []\n",
    "for gram in nltk.ngrams(name.lower(), 2):\n",
    "    name_grams.append(\"\".join(gram))\n",
    "    \n",
    "pred_features = pd.DataFrame(pd.Series({feature: 1 if feature in name_grams else 0 for feature in feature_df.columns})).transpose()\n",
    "clf.predict(pred_features)"
   ]
  },
  {
   "cell_type": "code",
   "execution_count": 180,
   "metadata": {
    "ExecuteTime": {
     "end_time": "2017-12-05T19:12:37.775893Z",
     "start_time": "2017-12-05T19:12:34.245837Z"
    },
    "collapsed": false
   },
   "outputs": [],
   "source": [
    "feature_df[\"is_girl\"] = final_df.is_girl.values\n",
    "feature_df.to_csv(\"./baby_model.csv\")"
   ]
  },
  {
   "cell_type": "code",
   "execution_count": 14,
   "metadata": {
    "ExecuteTime": {
     "end_time": "2017-12-19T14:53:01.803591Z",
     "start_time": "2017-12-19T14:53:01.242436Z"
    },
    "collapsed": false
   },
   "outputs": [],
   "source": [
    "df = pd.read_csv(\"./baby_model.csv\")"
   ]
  },
  {
   "cell_type": "code",
   "execution_count": 31,
   "metadata": {
    "ExecuteTime": {
     "end_time": "2017-12-19T15:00:15.767427Z",
     "start_time": "2017-12-19T15:00:15.760107Z"
    },
    "collapsed": false
   },
   "outputs": [],
   "source": [
    "feature_names = [col for col in df.columns if col != 'is_girl' or col != 'names']\n",
    "import pickle\n",
    "f = open('feature_names.pickle', 'wb')\n",
    "pickle.dump(feature_names, f)\n",
    "f.close()"
   ]
  },
  {
   "cell_type": "code",
   "execution_count": 33,
   "metadata": {
    "ExecuteTime": {
     "end_time": "2017-12-19T15:00:25.132710Z",
     "start_time": "2017-12-19T15:00:25.082582Z"
    },
    "collapsed": false
   },
   "outputs": [
    {
     "ename": "TypeError",
     "evalue": "'str' object cannot be interpreted as an integer",
     "output_type": "error",
     "traceback": [
      "\u001b[0;31m---------------------------------------------------------------------------\u001b[0m",
      "\u001b[0;31mTypeError\u001b[0m                                 Traceback (most recent call last)",
      "\u001b[0;32m<ipython-input-33-fd1349bb374b>\u001b[0m in \u001b[0;36m<module>\u001b[0;34m()\u001b[0m\n\u001b[0;32m----> 1\u001b[0;31m \u001b[0mfeature_names\u001b[0m\u001b[0;34m.\u001b[0m\u001b[0mpop\u001b[0m\u001b[0;34m(\u001b[0m\u001b[0;34m\"names\"\u001b[0m\u001b[0;34m)\u001b[0m\u001b[0;34m\u001b[0m\u001b[0m\n\u001b[0m",
      "\u001b[0;31mTypeError\u001b[0m: 'str' object cannot be interpreted as an integer"
     ]
    }
   ],
   "source": [
    "feature_names.pop(\"names\")"
   ]
  },
  {
   "cell_type": "markdown",
   "metadata": {},
   "source": [
    "# Save you model"
   ]
  },
  {
   "cell_type": "markdown",
   "metadata": {},
   "source": [
    "using Pickle, save your model to disk"
   ]
  },
  {
   "cell_type": "markdown",
   "metadata": {},
   "source": [
    "# Serve your model"
   ]
  },
  {
   "cell_type": "markdown",
   "metadata": {},
   "source": [
    "Using `flask`, create an API that takes a name and decides if its a boy or a girl. Also have an endpoint that recieves a list of names and return a list of genders. "
   ]
  },
  {
   "cell_type": "code",
   "execution_count": null,
   "metadata": {
    "collapsed": true
   },
   "outputs": [],
   "source": []
  },
  {
   "cell_type": "markdown",
   "metadata": {},
   "source": [
    "# Consume you model with python"
   ]
  },
  {
   "cell_type": "markdown",
   "metadata": {},
   "source": [
    "using `requests`, send requests to your model "
   ]
  },
  {
   "cell_type": "code",
   "execution_count": null,
   "metadata": {
    "collapsed": true
   },
   "outputs": [],
   "source": []
  },
  {
   "cell_type": "markdown",
   "metadata": {},
   "source": [
    "# Put it on Heoruko"
   ]
  },
  {
   "cell_type": "markdown",
   "metadata": {},
   "source": [
    "use you client to consume the public model. Follow https://devcenter.heroku.com/articles/getting-started-with-python until step 3 (deploy your app)"
   ]
  },
  {
   "cell_type": "code",
   "execution_count": null,
   "metadata": {
    "collapsed": true
   },
   "outputs": [],
   "source": []
  },
  {
   "cell_type": "markdown",
   "metadata": {
    "collapsed": true
   },
   "source": [
    "# Evaluate through web\n"
   ]
  },
  {
   "cell_type": "markdown",
   "metadata": {},
   "source": [
    "evaluate your model and your friends models using names not in the top 2000"
   ]
  },
  {
   "cell_type": "code",
   "execution_count": null,
   "metadata": {
    "collapsed": true
   },
   "outputs": [],
   "source": []
  },
  {
   "cell_type": "markdown",
   "metadata": {},
   "source": [
    "# Discussion"
   ]
  },
  {
   "cell_type": "markdown",
   "metadata": {},
   "source": [
    "If this was a commercial service, How could you imporve it? \n",
    "\n",
    "1. Data preprocesses \n",
    "1. Output type\n",
    "1. Interface\n",
    "\n",
    "Give some examples\n"
   ]
  },
  {
   "cell_type": "code",
   "execution_count": null,
   "metadata": {
    "collapsed": true
   },
   "outputs": [],
   "source": []
  }
 ],
 "metadata": {
  "kernelspec": {
   "display_name": "Python 3",
   "language": "python",
   "name": "python3"
  },
  "language_info": {
   "codemirror_mode": {
    "name": "ipython",
    "version": 3
   },
   "file_extension": ".py",
   "mimetype": "text/x-python",
   "name": "python",
   "nbconvert_exporter": "python",
   "pygments_lexer": "ipython3",
   "version": "3.6.0"
  }
 },
 "nbformat": 4,
 "nbformat_minor": 2
}
